{
 "cells": [
  {
   "cell_type": "markdown",
   "metadata": {},
   "source": [
    "A linked list is a data structure that represents a sequence of nodes. For the basic example of a singly linked list, each node will contain two fields: data and next.\n",
    "1 -> 28 -> 9 -> None   <- This is a visualization of a linked list."
   ]
  },
  {
   "cell_type": "markdown",
   "metadata": {},
   "source": [
    "The benefit of a linked list over an array is that the insertions and deletions can run in constant time. Where in an array you have to shift elements to a different index. \n",
    "Time Complexities of a singly Linked List:\n",
    "Access: O(n) <- Linear time\n",
    "Search: O(n) <- Linear time\n",
    "Insert: O(1) <- Constant time\n",
    "Deletion: O(1) <- Constant"
   ]
  },
  {
   "cell_type": "markdown",
   "metadata": {},
   "source": [
    "Keys to solving Linked List Problems:\n",
    "-Adding a dummy node; prevents operations from happening on the head or any of the nodes\n",
    "-For deletion you don't explicitly have to delete nodes, just changing the next field of the node previous of the target node to the next node of target node. 1->2->3->None when deleting 2 you'd just have to change the next field of one to target 3.\n",
    "Resulting in 1->3->None\n",
    "-2 pointer technique\n",
    "    -The runner technique for finding kth node. consist of the runner moving k spots and once the fast one reaches the end then the slow one will be a kth node from end\n",
    "     -Detecting cycles; consists of the runner increasing twice as much as the lagger, if they meet then there is a cycle\n",
    "     -getting the middle node consists of the same thing as the cycle technique but instead once the runner is at the end then the slow one should be at the middle node"
   ]
  },
  {
   "cell_type": "markdown",
   "metadata": {},
   "source": [
    "Edge cases\n",
    "-single node\n",
    "-two nodes\n",
    "-linked list with cycle"
   ]
  },
  {
   "cell_type": "code",
   "execution_count": 1,
   "metadata": {},
   "outputs": [
    {
     "name": "stdout",
     "output_type": "stream",
     "text": [
      "2\n",
      "3\n",
      "2\n",
      "3\n"
     ]
    }
   ],
   "source": [
    "#implementation of a singly linked list\n",
    "class Node:\n",
    "    \n",
    "    def __init__(self, data = None):\n",
    "        self.data = data\n",
    "        self.next = None\n",
    "        \n",
    "\n",
    "class Linked_List:\n",
    "    def __init__(self, head = None):\n",
    "        self.head = head\n",
    "        \n",
    "    def append(self, data):\n",
    "        if self.head == None:\n",
    "            self.head = Node(data)\n",
    "            return\n",
    "        current = Node(self.head.data)\n",
    "        while(current.next != None):\n",
    "            current = current.next\n",
    "        current.next = Node(data)\n",
    "    \n",
    "    def prepend(self, data):\n",
    "        newHead = Node(data)\n",
    "        newHead.next = self.head\n",
    "        self.head = newHead\n",
    "        \n",
    "    def delete(self, data):\n",
    "        if self.head == None:\n",
    "            return\n",
    "        current = self.head\n",
    "        if self.head.data == data:\n",
    "            self.head = self.head.next\n",
    "            \n",
    "        while(current.next != None):\n",
    "            if current.next.data == data:\n",
    "                current.next = current.next.next\n",
    "                return\n",
    "            current = current.next\n",
    "    \n",
    "    def print_ll(self):\n",
    "        if self.head == None:\n",
    "            print(\"\")\n",
    "        \n",
    "        current = self.head\n",
    "        \n",
    "        while(current != None):\n",
    "            print(current.data)\n",
    "            current = current.next\n",
    "            \n",
    "\n",
    "ll = Linked_List()\n",
    "\n",
    "ll.append(2)\n",
    "ll.print_ll()\n",
    "ll.prepend(3)\n",
    "ll.print_ll()\n",
    "ll.delete(2)\n",
    "ll.print_ll()\n"
   ]
  },
  {
   "cell_type": "code",
   "execution_count": null,
   "metadata": {},
   "outputs": [],
   "source": []
  }
 ],
 "metadata": {
  "kernelspec": {
   "display_name": "Python 3",
   "language": "python",
   "name": "python3"
  },
  "language_info": {
   "codemirror_mode": {
    "name": "ipython",
    "version": 3
   },
   "file_extension": ".py",
   "mimetype": "text/x-python",
   "name": "python",
   "nbconvert_exporter": "python",
   "pygments_lexer": "ipython3",
   "version": "3.8.5"
  }
 },
 "nbformat": 4,
 "nbformat_minor": 4
}
